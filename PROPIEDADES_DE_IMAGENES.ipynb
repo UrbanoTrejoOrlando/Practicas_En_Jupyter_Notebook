{
 "cells": [
  {
   "cell_type": "code",
   "execution_count": 1,
   "id": "e9dbda49",
   "metadata": {},
   "outputs": [
    {
     "name": "stdout",
     "output_type": "stream",
     "text": [
      "Introduce una opción: \n",
      " 1.Traslación \n",
      " 2.Rotación \n",
      " 3.Escalamiento \n",
      " 4.Cizallado \n",
      "1\n",
      "Introduce el valor de X: 20\n",
      "Introduce el valor de Y: 20\n"
     ]
    },
    {
     "ename": "NameError",
     "evalue": "name 'aplicar_transparencia' is not defined",
     "output_type": "error",
     "traceback": [
      "\u001b[1;31m---------------------------------------------------------------------------\u001b[0m",
      "\u001b[1;31mNameError\u001b[0m                                 Traceback (most recent call last)",
      "Cell \u001b[1;32mIn[1], line 18\u001b[0m\n\u001b[0;32m     16\u001b[0m cv2\u001b[38;5;241m.\u001b[39mimshow(\u001b[38;5;124m'\u001b[39m\u001b[38;5;124mImagen Original: \u001b[39m\u001b[38;5;124m'\u001b[39m,imagen)\n\u001b[0;32m     17\u001b[0m cv2\u001b[38;5;241m.\u001b[39mimshow(\u001b[38;5;124m'\u001b[39m\u001b[38;5;124mImagen Trasladada:\u001b[39m\u001b[38;5;124m'\u001b[39m,imageOut)\n\u001b[1;32m---> 18\u001b[0m cv2\u001b[38;5;241m.\u001b[39mimshow(\u001b[38;5;124m\"\u001b[39m\u001b[38;5;124mTransparencia\u001b[39m\u001b[38;5;124m\"\u001b[39m, \u001b[43maplicar_transparencia\u001b[49m)\n\u001b[0;32m     19\u001b[0m cv2\u001b[38;5;241m.\u001b[39mwaitKey(\u001b[38;5;241m0\u001b[39m)\n\u001b[0;32m     20\u001b[0m cv2\u001b[38;5;241m.\u001b[39mdestroyAllWindows()\n",
      "\u001b[1;31mNameError\u001b[0m: name 'aplicar_transparencia' is not defined"
     ]
    }
   ],
   "source": [
    "import cv2\n",
    "import numpy as np\n",
    "\n",
    "#CARGA LA IMAGEN\n",
    "imagen = cv2.imread('Vaka-kawaii.jpg')\n",
    "\n",
    "opcion = int(input(\"Introduce una opción: \\n 1.Traslación \\n 2.Rotación \\n 3.Escalamiento \\n 4.Cizallado \\n\"))\n",
    "if opcion == 1:\n",
    "    #Traslacion\n",
    "    ancho = imagen.shape[1] #Columnas \n",
    "    alto = imagen.shape[0] #Filas\n",
    "    x= int(input(\"Introduce el valor de X: \"))\n",
    "    y= int(input(\"Introduce el valor de Y: \"))\n",
    "    M = np.float32([[1,0,x],[0,1,y]])\n",
    "    imageOut = cv2.warpAffine(imagen,M,(ancho,alto))\n",
    "    cv2.imshow('Imagen Original: ',imagen)\n",
    "    cv2.imshow('Imagen Trasladada:',imageOut)\n",
    "    cv2.imshow(\"Transparencia\", aplicar_transparencia)\n",
    "    cv2.waitKey(0)\n",
    "    cv2.destroyAllWindows()\n",
    "    \n",
    "elif opcion == 2:\n",
    "    #Rotacion\n",
    "    ancho = imagen.shape[1] #Columnas \n",
    "    alto = imagen.shape[0] #Filas\n",
    "    angulo = int(input(\"Introduce el valor del ángulo a rotar: \"))\n",
    "    M= cv2.getRotationMatrix2D((ancho//2,alto//2),angulo,1)\n",
    "    imageOut = cv2.warpAffine(imagen,M,(ancho,alto))\n",
    "    cv2.imshow('Imagen Original: ',imagen)\n",
    "    cv2.imshow('Imagen Rotada:',imageOut)\n",
    "    cv2.imshow(\"Transparencia\", aplicar_transparencia)\n",
    "    cv2.waitKey(0)\n",
    "    cv2.destroyAllWindows()\n",
    "elif opcion == 3:\n",
    "    #Escalamiento\n",
    "    ancho=int(input(\"Introduce el ancho deseado: \"))\n",
    "    alto=int(input(\"Introduce el alto deseado: \"))\n",
    "    imageOut = cv2.resize(imagen,(ancho,alto),interpolation=cv2.INTER_CUBIC)\n",
    "    cv2.imshow('Imagen Original: ',imagen)\n",
    "    cv2.imshow('Imagen Escalada:',imageOut)\n",
    "    cv2.imshow(\"Transparencia\", aplicar_transparencia)\n",
    "    cv2.waitKey(0)\n",
    "    cv2.destroyAllWindows()\n",
    "elif opcion == 4:\n",
    "    #Recorte\n",
    "    #print('imagen.shape=',imagen.shape)\n",
    "    fi=150\n",
    "    ff=300\n",
    "    ci=200\n",
    "    cf=400\n",
    "    imageOut = imagen[fi:ff,ci:cf]\n",
    "    cv2.imshow('Imagen de Entrada: ',imagen)\n",
    "    cv2.imshow('Imagen de Salida:',imageOut)\n",
    "    cv2.imshow(\"Transparencia\", aplicar_transparencia)\n",
    "    cv2.waitKey(0)\n",
    "    cv2.destroyAllWindows()\n",
    "def aplicar_transparencia(imagen, alpha):\n",
    "    img = imagen.copy()\n",
    "    transparente = np.zeros_like(img, dtype=np.uint8)\n",
    "    imagen_transparente = cv2.addWeighted(img, 1 - alpha, transparente, alpha, 0)\n",
    "    return imagen_transparente"
   ]
  },
  {
   "cell_type": "code",
   "execution_count": null,
   "id": "d23f534c",
   "metadata": {},
   "outputs": [],
   "source": []
  },
  {
   "cell_type": "code",
   "execution_count": 4,
   "id": "96bfae14",
   "metadata": {},
   "outputs": [],
   "source": []
  },
  {
   "cell_type": "code",
   "execution_count": null,
   "id": "04cd58f4",
   "metadata": {},
   "outputs": [],
   "source": []
  }
 ],
 "metadata": {
  "kernelspec": {
   "display_name": "Python 3 (ipykernel)",
   "language": "python",
   "name": "python3"
  },
  "language_info": {
   "codemirror_mode": {
    "name": "ipython",
    "version": 3
   },
   "file_extension": ".py",
   "mimetype": "text/x-python",
   "name": "python",
   "nbconvert_exporter": "python",
   "pygments_lexer": "ipython3",
   "version": "3.9.18"
  }
 },
 "nbformat": 4,
 "nbformat_minor": 5
}
